{
 "cells": [
  {
   "cell_type": "markdown",
   "id": "acee1595-971c-47f2-b75b-f3f9bbbdfd91",
   "metadata": {},
   "source": [
    "# Data Science Tools and Ecosystem"
   ]
  },
  {
   "cell_type": "markdown",
   "id": "df653642-1fc2-4a4d-82d6-77f88c8001c5",
   "metadata": {},
   "source": [
    "In this notebook, Data Science Tools and Ecosystem are summarized."
   ]
  },
  {
   "cell_type": "markdown",
   "id": "77a39c62-4b66-49a3-8eca-c9eed7862d28",
   "metadata": {},
   "source": [
    "**Objectives:**\n",
    "* List popular languages for Data Science\n",
    "* List Popular libraries for Data Science\n",
    "* List of wll known Data Science Tools\n",
    "* How to provide cmments in cell"
   ]
  },
  {
   "cell_type": "markdown",
   "id": "c55584f8-b098-4466-b189-5464ca20396c",
   "metadata": {},
   "source": [
    "Some of the popular languages that Data Scientists use are:\n",
    "1. Python\n",
    "2. R\n",
    "3. Java\n",
    "4. SQL"
   ]
  },
  {
   "cell_type": "markdown",
   "id": "457761cc-0a40-4339-a18b-6e6bdf074a1b",
   "metadata": {},
   "source": [
    "Some of the commonly used libraries used by Data Scientists include:\n",
    "1. Scikit learn\n",
    "2. Pandas\n",
    "3. Numpy\n",
    "4. Tensorflow\n",
    "5. Nltk\n",
    "6. Keras"
   ]
  },
  {
   "cell_type": "markdown",
   "id": "cbe66730-3b05-4bd7-8c27-b381815f03d5",
   "metadata": {},
   "source": [
    "|Data Science Tools|\n",
    "|------------------|\n",
    "|Tensorflow|\n",
    "|Apache Hadoop|\n",
    "|SAS|"
   ]
  },
  {
   "cell_type": "markdown",
   "id": "5330d60b-da99-4739-9ef2-2540069f2a42",
   "metadata": {},
   "source": [
    "### Below are a few examples of evaluating arithmetic expressions in Python"
   ]
  },
  {
   "cell_type": "code",
   "execution_count": 1,
   "id": "c5247bd3-32b3-4eb6-b546-a560f51e2628",
   "metadata": {},
   "outputs": [
    {
     "data": {
      "text/plain": [
       "17"
      ]
     },
     "execution_count": 1,
     "metadata": {},
     "output_type": "execute_result"
    }
   ],
   "source": [
    "# This a simple arithmetic expression to mutiply then add integers\n",
    "(3*4)+5"
   ]
  },
  {
   "cell_type": "code",
   "execution_count": 2,
   "id": "0eee73c1-f129-4cf9-82cf-6278fe0cd779",
   "metadata": {},
   "outputs": [
    {
     "data": {
      "text/plain": [
       "3.3333333333333335"
      ]
     },
     "execution_count": 2,
     "metadata": {},
     "output_type": "execute_result"
    }
   ],
   "source": [
    "# This will convert 200 minutes to hours by diving by 60\n",
    "200/60"
   ]
  },
  {
   "cell_type": "markdown",
   "id": "cfd025e6-2e53-4bc1-a2dc-1e7488f02269",
   "metadata": {},
   "source": [
    "## Author\n",
    "Sarbjot Singh"
   ]
  }
 ],
 "metadata": {
  "kernelspec": {
   "display_name": "Python 3 (ipykernel)",
   "language": "python",
   "name": "python3"
  },
  "language_info": {
   "codemirror_mode": {
    "name": "ipython",
    "version": 3
   },
   "file_extension": ".py",
   "mimetype": "text/x-python",
   "name": "python",
   "nbconvert_exporter": "python",
   "pygments_lexer": "ipython3",
   "version": "3.12.8"
  }
 },
 "nbformat": 4,
 "nbformat_minor": 5
}
